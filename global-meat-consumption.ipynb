{
 "cells": [
  {
   "cell_type": "code",
   "execution_count": 1,
   "id": "9c27b04d",
   "metadata": {
    "_cell_guid": "b1076dfc-b9ad-4769-8c92-a6c4dae69d19",
    "_uuid": "8f2839f25d086af736a60e9eeb907d3b93b6e0e5",
    "execution": {
     "iopub.execute_input": "2022-06-26T19:49:31.124868Z",
     "iopub.status.busy": "2022-06-26T19:49:31.123667Z",
     "iopub.status.idle": "2022-06-26T19:49:31.150961Z",
     "shell.execute_reply": "2022-06-26T19:49:31.149774Z"
    },
    "papermill": {
     "duration": 0.035734,
     "end_time": "2022-06-26T19:49:31.154564",
     "exception": false,
     "start_time": "2022-06-26T19:49:31.118830",
     "status": "completed"
    },
    "tags": []
   },
   "outputs": [
    {
     "name": "stdout",
     "output_type": "stream",
     "text": [
      "/kaggle/input/meat-production-datasets1961-2018/energy-efficiency-of-meat-and-dairy-production.csv\n",
      "/kaggle/input/meat-production-datasets1961-2018/meat-supply-per-person.csv\n",
      "/kaggle/input/meat-production-datasets1961-2018/meat-consumption-vs-gdp-per-capita.csv\n",
      "/kaggle/input/meat-production-datasets1961-2018/animals-slaughtered-for-meat.csv\n",
      "/kaggle/input/meat-production-datasets1961-2018/beef-and-buffalo-meat-production-tonnes.csv\n",
      "/kaggle/input/meat-production-datasets1961-2018/chicken-meat-production.csv\n",
      "/kaggle/input/meat-production-datasets1961-2018/egg-yield-per-bird.csv\n",
      "/kaggle/input/meat-production-datasets1961-2018/global-meat-production.csv\n",
      "/kaggle/input/meat-production-datasets1961-2018/pigmeat-production-tonnes.csv\n",
      "/kaggle/input/meat-production-datasets1961-2018/poultry-production-tonnes.csv\n",
      "/kaggle/input/meat-production-datasets1961-2018/meat-production-tonnes.csv\n",
      "/kaggle/input/meat-production-datasets1961-2018/protein-efficiency-of-meat-and-dairy-production.csv\n",
      "/kaggle/input/meat-production-datasets1961-2018/global-meat-production-by-livestock-type.csv\n",
      "/kaggle/input/meat-production-datasets1961-2018/per-capita-meat-consumption-by-type-kilograms-per-year.csv\n",
      "/kaggle/input/meatconsumption/meat_consumption_worldwide.csv\n"
     ]
    }
   ],
   "source": [
    "# This Python 3 environment comes with many helpful analytics libraries installed\n",
    "# It is defined by the kaggle/python Docker image: https://github.com/kaggle/docker-python\n",
    "# For example, here's several helpful packages to load\n",
    "\n",
    "import numpy as np # linear algebra\n",
    "import pandas as pd # data processing, CSV file I/O (e.g. pd.read_csv)\n",
    "\n",
    "# Input data files are available in the read-only \"../input/\" directory\n",
    "# For example, running this (by clicking run or pressing Shift+Enter) will list all files under the input directory\n",
    "\n",
    "import os\n",
    "for dirname, _, filenames in os.walk('/kaggle/input'):\n",
    "    for filename in filenames:\n",
    "        print(os.path.join(dirname, filename))\n",
    "\n",
    "# You can write up to 20GB to the current directory (/kaggle/working/) that gets preserved as output when you create a version using \"Save & Run All\" \n",
    "# You can also write temporary files to /kaggle/temp/, but they won't be saved outside of the current session"
   ]
  },
  {
   "cell_type": "code",
   "execution_count": 2,
   "id": "dde6774a",
   "metadata": {
    "execution": {
     "iopub.execute_input": "2022-06-26T19:49:31.162411Z",
     "iopub.status.busy": "2022-06-26T19:49:31.161540Z",
     "iopub.status.idle": "2022-06-26T19:49:32.387376Z",
     "shell.execute_reply": "2022-06-26T19:49:32.385806Z"
    },
    "papermill": {
     "duration": 1.233028,
     "end_time": "2022-06-26T19:49:32.390826",
     "exception": false,
     "start_time": "2022-06-26T19:49:31.157798",
     "status": "completed"
    },
    "tags": []
   },
   "outputs": [
    {
     "name": "stdout",
     "output_type": "stream",
     "text": [
      "Setup Complete\n"
     ]
    }
   ],
   "source": [
    "pd.plotting.register_matplotlib_converters()\n",
    "import matplotlib.pyplot as plt\n",
    "%matplotlib inline\n",
    "import seaborn as sns\n",
    "print(\"Setup Complete\")"
   ]
  },
  {
   "cell_type": "code",
   "execution_count": 3,
   "id": "cfe5b130",
   "metadata": {
    "execution": {
     "iopub.execute_input": "2022-06-26T19:49:32.398533Z",
     "iopub.status.busy": "2022-06-26T19:49:32.397738Z",
     "iopub.status.idle": "2022-06-26T19:49:32.471290Z",
     "shell.execute_reply": "2022-06-26T19:49:32.469944Z"
    },
    "papermill": {
     "duration": 0.080023,
     "end_time": "2022-06-26T19:49:32.473813",
     "exception": false,
     "start_time": "2022-06-26T19:49:32.393790",
     "status": "completed"
    },
    "tags": []
   },
   "outputs": [
    {
     "data": {
      "text/html": [
       "<div>\n",
       "<style scoped>\n",
       "    .dataframe tbody tr th:only-of-type {\n",
       "        vertical-align: middle;\n",
       "    }\n",
       "\n",
       "    .dataframe tbody tr th {\n",
       "        vertical-align: top;\n",
       "    }\n",
       "\n",
       "    .dataframe thead th {\n",
       "        text-align: right;\n",
       "    }\n",
       "</style>\n",
       "<table border=\"1\" class=\"dataframe\">\n",
       "  <thead>\n",
       "    <tr style=\"text-align: right;\">\n",
       "      <th></th>\n",
       "      <th>Entity</th>\n",
       "      <th>Year</th>\n",
       "      <th>Cattle (cattle slaughtered)</th>\n",
       "      <th>Goats (goats slaughtered)</th>\n",
       "      <th>Chicken (chicken slaughtered)</th>\n",
       "      <th>Turkey (turkeys slaughtered)</th>\n",
       "      <th>Pigs (pigs slaughtered)</th>\n",
       "      <th>Sheep (sheeps slaughtered)</th>\n",
       "    </tr>\n",
       "  </thead>\n",
       "  <tbody>\n",
       "    <tr>\n",
       "      <th>0</th>\n",
       "      <td>Afghanistan</td>\n",
       "      <td>1961</td>\n",
       "      <td>360000.0</td>\n",
       "      <td>940000.0</td>\n",
       "      <td>7000000.0</td>\n",
       "      <td>NaN</td>\n",
       "      <td>NaN</td>\n",
       "      <td>4336000.0</td>\n",
       "    </tr>\n",
       "    <tr>\n",
       "      <th>1</th>\n",
       "      <td>Afghanistan</td>\n",
       "      <td>1962</td>\n",
       "      <td>384000.0</td>\n",
       "      <td>875000.0</td>\n",
       "      <td>7500000.0</td>\n",
       "      <td>NaN</td>\n",
       "      <td>NaN</td>\n",
       "      <td>4355000.0</td>\n",
       "    </tr>\n",
       "    <tr>\n",
       "      <th>2</th>\n",
       "      <td>Afghanistan</td>\n",
       "      <td>1963</td>\n",
       "      <td>396000.0</td>\n",
       "      <td>810000.0</td>\n",
       "      <td>7700000.0</td>\n",
       "      <td>NaN</td>\n",
       "      <td>NaN</td>\n",
       "      <td>4673000.0</td>\n",
       "    </tr>\n",
       "    <tr>\n",
       "      <th>3</th>\n",
       "      <td>Afghanistan</td>\n",
       "      <td>1964</td>\n",
       "      <td>402000.0</td>\n",
       "      <td>750000.0</td>\n",
       "      <td>8000000.0</td>\n",
       "      <td>NaN</td>\n",
       "      <td>NaN</td>\n",
       "      <td>5010000.0</td>\n",
       "    </tr>\n",
       "    <tr>\n",
       "      <th>4</th>\n",
       "      <td>Afghanistan</td>\n",
       "      <td>1965</td>\n",
       "      <td>408000.0</td>\n",
       "      <td>875000.0</td>\n",
       "      <td>8500000.0</td>\n",
       "      <td>NaN</td>\n",
       "      <td>NaN</td>\n",
       "      <td>5179000.0</td>\n",
       "    </tr>\n",
       "    <tr>\n",
       "      <th>...</th>\n",
       "      <td>...</td>\n",
       "      <td>...</td>\n",
       "      <td>...</td>\n",
       "      <td>...</td>\n",
       "      <td>...</td>\n",
       "      <td>...</td>\n",
       "      <td>...</td>\n",
       "      <td>...</td>\n",
       "    </tr>\n",
       "    <tr>\n",
       "      <th>13532</th>\n",
       "      <td>Zimbabwe</td>\n",
       "      <td>2014</td>\n",
       "      <td>432942.0</td>\n",
       "      <td>2040000.0</td>\n",
       "      <td>50000000.0</td>\n",
       "      <td>27000.0</td>\n",
       "      <td>378000.0</td>\n",
       "      <td>28000.0</td>\n",
       "    </tr>\n",
       "    <tr>\n",
       "      <th>13533</th>\n",
       "      <td>Zimbabwe</td>\n",
       "      <td>2015</td>\n",
       "      <td>501747.0</td>\n",
       "      <td>1728852.0</td>\n",
       "      <td>53000000.0</td>\n",
       "      <td>27000.0</td>\n",
       "      <td>389422.0</td>\n",
       "      <td>27271.0</td>\n",
       "    </tr>\n",
       "    <tr>\n",
       "      <th>13534</th>\n",
       "      <td>Zimbabwe</td>\n",
       "      <td>2016</td>\n",
       "      <td>491611.0</td>\n",
       "      <td>1479437.0</td>\n",
       "      <td>58000000.0</td>\n",
       "      <td>28000.0</td>\n",
       "      <td>380286.0</td>\n",
       "      <td>27432.0</td>\n",
       "    </tr>\n",
       "    <tr>\n",
       "      <th>13535</th>\n",
       "      <td>Zimbabwe</td>\n",
       "      <td>2017</td>\n",
       "      <td>474251.0</td>\n",
       "      <td>2101765.0</td>\n",
       "      <td>60000000.0</td>\n",
       "      <td>28000.0</td>\n",
       "      <td>316036.0</td>\n",
       "      <td>30665.0</td>\n",
       "    </tr>\n",
       "    <tr>\n",
       "      <th>13536</th>\n",
       "      <td>Zimbabwe</td>\n",
       "      <td>2018</td>\n",
       "      <td>489217.0</td>\n",
       "      <td>2122608.0</td>\n",
       "      <td>57250000.0</td>\n",
       "      <td>28000.0</td>\n",
       "      <td>323713.0</td>\n",
       "      <td>28458.0</td>\n",
       "    </tr>\n",
       "  </tbody>\n",
       "</table>\n",
       "<p>13537 rows × 8 columns</p>\n",
       "</div>"
      ],
      "text/plain": [
       "            Entity  Year  Cattle (cattle slaughtered)  \\\n",
       "0      Afghanistan  1961                     360000.0   \n",
       "1      Afghanistan  1962                     384000.0   \n",
       "2      Afghanistan  1963                     396000.0   \n",
       "3      Afghanistan  1964                     402000.0   \n",
       "4      Afghanistan  1965                     408000.0   \n",
       "...            ...   ...                          ...   \n",
       "13532     Zimbabwe  2014                     432942.0   \n",
       "13533     Zimbabwe  2015                     501747.0   \n",
       "13534     Zimbabwe  2016                     491611.0   \n",
       "13535     Zimbabwe  2017                     474251.0   \n",
       "13536     Zimbabwe  2018                     489217.0   \n",
       "\n",
       "       Goats (goats slaughtered)  Chicken (chicken slaughtered)  \\\n",
       "0                       940000.0                      7000000.0   \n",
       "1                       875000.0                      7500000.0   \n",
       "2                       810000.0                      7700000.0   \n",
       "3                       750000.0                      8000000.0   \n",
       "4                       875000.0                      8500000.0   \n",
       "...                          ...                            ...   \n",
       "13532                  2040000.0                     50000000.0   \n",
       "13533                  1728852.0                     53000000.0   \n",
       "13534                  1479437.0                     58000000.0   \n",
       "13535                  2101765.0                     60000000.0   \n",
       "13536                  2122608.0                     57250000.0   \n",
       "\n",
       "       Turkey (turkeys slaughtered)  Pigs (pigs slaughtered)  \\\n",
       "0                               NaN                      NaN   \n",
       "1                               NaN                      NaN   \n",
       "2                               NaN                      NaN   \n",
       "3                               NaN                      NaN   \n",
       "4                               NaN                      NaN   \n",
       "...                             ...                      ...   \n",
       "13532                       27000.0                 378000.0   \n",
       "13533                       27000.0                 389422.0   \n",
       "13534                       28000.0                 380286.0   \n",
       "13535                       28000.0                 316036.0   \n",
       "13536                       28000.0                 323713.0   \n",
       "\n",
       "       Sheep (sheeps slaughtered)  \n",
       "0                       4336000.0  \n",
       "1                       4355000.0  \n",
       "2                       4673000.0  \n",
       "3                       5010000.0  \n",
       "4                       5179000.0  \n",
       "...                           ...  \n",
       "13532                     28000.0  \n",
       "13533                     27271.0  \n",
       "13534                     27432.0  \n",
       "13535                     30665.0  \n",
       "13536                     28458.0  \n",
       "\n",
       "[13537 rows x 8 columns]"
      ]
     },
     "execution_count": 3,
     "metadata": {},
     "output_type": "execute_result"
    }
   ],
   "source": [
    "animals = pd.read_csv('../input/meat-production-datasets1961-2018/animals-slaughtered-for-meat.csv')\n",
    "del animals['Code']\n",
    "\n",
    "animals"
   ]
  },
  {
   "cell_type": "code",
   "execution_count": 4,
   "id": "65d5b0f9",
   "metadata": {
    "execution": {
     "iopub.execute_input": "2022-06-26T19:49:32.481448Z",
     "iopub.status.busy": "2022-06-26T19:49:32.480929Z",
     "iopub.status.idle": "2022-06-26T19:49:32.752123Z",
     "shell.execute_reply": "2022-06-26T19:49:32.750922Z"
    },
    "papermill": {
     "duration": 0.278836,
     "end_time": "2022-06-26T19:49:32.755578",
     "exception": false,
     "start_time": "2022-06-26T19:49:32.476742",
     "status": "completed"
    },
    "tags": []
   },
   "outputs": [
    {
     "name": "stderr",
     "output_type": "stream",
     "text": [
      "/opt/conda/lib/python3.7/site-packages/ipykernel_launcher.py:12: UserWarning: FixedFormatter should only be used together with FixedLocator\n",
      "  if sys.path[0] == \"\":\n"
     ]
    },
    {
     "data": {
      "text/plain": [
       "Text(0, 0.5, 'Cattle slaughtered, Millions')"
      ]
     },
     "execution_count": 4,
     "metadata": {},
     "output_type": "execute_result"
    },
    {
     "data": {
      "image/png": "[encoded data removed]",
      "text/plain": [
       "<Figure size 432x288 with 1 Axes>"
      ]
     },
     "metadata": {
      "needs_background": "light"
     },
     "output_type": "display_data"
    }
   ],
   "source": [
    "animals.set_index(\"Year\", inplace = True)\n",
    "animals.groupby([animals.index])\n",
    "\n",
    "world_data = animals.loc[animals['Entity'].str.contains(\"World\", case=False)]\n",
    "\n",
    "last_10yrs = world_data.tail(20)\n",
    "\n",
    "cows = (last_10yrs['Cattle (cattle slaughtered)'] / 1000000).round(0)\n",
    "\n",
    "graph = sns.lineplot(data = cows)\n",
    "\n",
    "graph.set_xticklabels(cows.index)\n",
    "graph.set_ylabel('Cattle slaughtered, Millions')\n"
   ]
  }
 ],
 "metadata": {
  "kernelspec": {
   "display_name": "Python 3",
   "language": "python",
   "name": "python3"
  },
  "language_info": {
   "codemirror_mode": {
    "name": "ipython",
    "version": 3
   },
   "file_extension": ".py",
   "mimetype": "text/x-python",
   "name": "python",
   "nbconvert_exporter": "python",
   "pygments_lexer": "ipython3",
   "version": "3.7.12"
  },
  "papermill": {
   "default_parameters": {},
   "duration": 13.342993,
   "end_time": "2022-06-26T19:49:33.485367",
   "environment_variables": {},
   "exception": null,
   "input_path": "__notebook__.ipynb",
   "output_path": "__notebook__.ipynb",
   "parameters": {},
   "start_time": "2022-06-26T19:49:20.142374",
   "version": "2.3.4"
  }
 },
 "nbformat": 4,
 "nbformat_minor": 5
}
