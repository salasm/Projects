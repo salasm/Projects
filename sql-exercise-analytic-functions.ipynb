{
 "cells": [
  {
   "cell_type": "markdown",
   "id": "e5643f92",
   "metadata": {
    "papermill": {
     "duration": 0.005533,
     "end_time": "2023-03-13T17:56:55.094144",
     "exception": false,
     "start_time": "2023-03-13T17:56:55.088611",
     "status": "completed"
    },
    "tags": []
   },
   "source": [
    "**This notebook is an exercise in the [Advanced SQL](https://www.kaggle.com/learn/advanced-sql) course.  You can reference the tutorial at [this link](https://www.kaggle.com/alexisbcook/analytic-functions).**\n",
    "\n",
    "---\n"
   ]
  },
  {
   "cell_type": "markdown",
   "id": "89e80783",
   "metadata": {
    "papermill": {
     "duration": 0.004191,
     "end_time": "2023-03-13T17:56:55.103107",
     "exception": false,
     "start_time": "2023-03-13T17:56:55.098916",
     "status": "completed"
    },
    "tags": []
   },
   "source": [
    "# Introduction\n",
    "\n",
    "Here, you'll use window functions to answer questions about the [Chicago Taxi Trips](https://www.kaggle.com/chicago/chicago-taxi-trips-bq) dataset.\n",
    "\n",
    "Before you get started, run the code cell below to set everything up."
   ]
  },
  {
   "cell_type": "code",
   "execution_count": 1,
   "id": "1cc96414",
   "metadata": {
    "execution": {
     "iopub.execute_input": "2023-03-13T17:56:55.113783Z",
     "iopub.status.busy": "2023-03-13T17:56:55.113304Z",
     "iopub.status.idle": "2023-03-13T17:57:05.211267Z",
     "shell.execute_reply": "2023-03-13T17:57:05.210187Z"
    },
    "papermill": {
     "duration": 10.107992,
     "end_time": "2023-03-13T17:57:05.215356",
     "exception": false,
     "start_time": "2023-03-13T17:56:55.107364",
     "status": "completed"
    },
    "tags": []
   },
   "outputs": [
    {
     "name": "stdout",
     "output_type": "stream",
     "text": [
      "Using Kaggle's public dataset BigQuery integration.\n"
     ]
    },
    {
     "name": "stderr",
     "output_type": "stream",
     "text": [
      "/opt/conda/lib/python3.7/site-packages/google/cloud/bigquery/client.py:440: UserWarning: Cannot create BigQuery Storage client, the dependency google-cloud-bigquery-storage is not installed.\n",
      "  \"Cannot create BigQuery Storage client, the dependency \"\n"
     ]
    },
    {
     "name": "stdout",
     "output_type": "stream",
     "text": [
      "Setup Complete\n"
     ]
    }
   ],
   "source": [
    "# Set up feedback system\n",
    "from learntools.core import binder\n",
    "binder.bind(globals())\n",
    "from learntools.sql_advanced.ex2 import *\n",
    "print(\"Setup Complete\")"
   ]
  },
  {
   "cell_type": "markdown",
   "id": "ada7e7a3",
   "metadata": {
    "papermill": {
     "duration": 0.004211,
     "end_time": "2023-03-13T17:57:05.224591",
     "exception": false,
     "start_time": "2023-03-13T17:57:05.220380",
     "status": "completed"
    },
    "tags": []
   },
   "source": [
    "The following code cell fetches the `taxi_trips` table from the `chicago_taxi_trips` dataset. We also preview the first five rows of the table.  You'll use the table to answer the questions below."
   ]
  },
  {
   "cell_type": "code",
   "execution_count": 2,
   "id": "8830d39c",
   "metadata": {
    "execution": {
     "iopub.execute_input": "2023-03-13T17:57:05.236258Z",
     "iopub.status.busy": "2023-03-13T17:57:05.235751Z",
     "iopub.status.idle": "2023-03-13T17:57:06.958274Z",
     "shell.execute_reply": "2023-03-13T17:57:06.956601Z"
    },
    "papermill": {
     "duration": 1.732285,
     "end_time": "2023-03-13T17:57:06.961347",
     "exception": false,
     "start_time": "2023-03-13T17:57:05.229062",
     "status": "completed"
    },
    "tags": []
   },
   "outputs": [
    {
     "name": "stdout",
     "output_type": "stream",
     "text": [
      "Using Kaggle's public dataset BigQuery integration.\n"
     ]
    },
    {
     "name": "stderr",
     "output_type": "stream",
     "text": [
      "/opt/conda/lib/python3.7/site-packages/ipykernel_launcher.py:19: UserWarning: Cannot use bqstorage_client if max_results is set, reverting to fetching data with the tabledata.list endpoint.\n"
     ]
    },
    {
     "data": {
      "text/html": [
       "<div>\n",
       "<style scoped>\n",
       "    .dataframe tbody tr th:only-of-type {\n",
       "        vertical-align: middle;\n",
       "    }\n",
       "\n",
       "    .dataframe tbody tr th {\n",
       "        vertical-align: top;\n",
       "    }\n",
       "\n",
       "    .dataframe thead th {\n",
       "        text-align: right;\n",
       "    }\n",
       "</style>\n",
       "<table border=\"1\" class=\"dataframe\">\n",
       "  <thead>\n",
       "    <tr style=\"text-align: right;\">\n",
       "      <th></th>\n",
       "      <th>unique_key</th>\n",
       "      <th>taxi_id</th>\n",
       "      <th>trip_start_timestamp</th>\n",
       "      <th>trip_end_timestamp</th>\n",
       "      <th>trip_seconds</th>\n",
       "      <th>trip_miles</th>\n",
       "      <th>pickup_census_tract</th>\n",
       "      <th>dropoff_census_tract</th>\n",
       "      <th>pickup_community_area</th>\n",
       "      <th>dropoff_community_area</th>\n",
       "      <th>...</th>\n",
       "      <th>extras</th>\n",
       "      <th>trip_total</th>\n",
       "      <th>payment_type</th>\n",
       "      <th>company</th>\n",
       "      <th>pickup_latitude</th>\n",
       "      <th>pickup_longitude</th>\n",
       "      <th>pickup_location</th>\n",
       "      <th>dropoff_latitude</th>\n",
       "      <th>dropoff_longitude</th>\n",
       "      <th>dropoff_location</th>\n",
       "    </tr>\n",
       "  </thead>\n",
       "  <tbody>\n",
       "    <tr>\n",
       "      <th>0</th>\n",
       "      <td>0523e3d9d670b1730853950fa33f3ca42cfe9e35</td>\n",
       "      <td>7c3d71cce1e7d945d5d1736ff35a8f3c05669d8106df27...</td>\n",
       "      <td>2014-11-03 16:00:00+00:00</td>\n",
       "      <td>2014-11-03 16:30:00+00:00</td>\n",
       "      <td>1920</td>\n",
       "      <td>0.6</td>\n",
       "      <td>1.703184e+10</td>\n",
       "      <td>1.703198e+10</td>\n",
       "      <td>32.0</td>\n",
       "      <td>56.0</td>\n",
       "      <td>...</td>\n",
       "      <td>3.0</td>\n",
       "      <td>28.05</td>\n",
       "      <td>Cash</td>\n",
       "      <td>Taxi Affiliation Services</td>\n",
       "      <td>41.880994</td>\n",
       "      <td>-87.632746</td>\n",
       "      <td>POINT (-87.6327464887 41.8809944707)</td>\n",
       "      <td>41.785999</td>\n",
       "      <td>-87.750934</td>\n",
       "      <td>POINT (-87.7509342894 41.785998518)</td>\n",
       "    </tr>\n",
       "    <tr>\n",
       "      <th>1</th>\n",
       "      <td>89b7e0e6d6e3579fc2f00a430aabc3365c1a8043</td>\n",
       "      <td>c9945e7e18aa8663c2619baf25d0df8730793b96b5003f...</td>\n",
       "      <td>2014-11-20 13:15:00+00:00</td>\n",
       "      <td>2014-11-20 13:45:00+00:00</td>\n",
       "      <td>2040</td>\n",
       "      <td>0.0</td>\n",
       "      <td>1.703132e+10</td>\n",
       "      <td>1.703198e+10</td>\n",
       "      <td>32.0</td>\n",
       "      <td>76.0</td>\n",
       "      <td>...</td>\n",
       "      <td>6.0</td>\n",
       "      <td>44.45</td>\n",
       "      <td>Cash</td>\n",
       "      <td>Dispatch Taxi Affiliation</td>\n",
       "      <td>41.884987</td>\n",
       "      <td>-87.620993</td>\n",
       "      <td>POINT (-87.6209929134 41.8849871918)</td>\n",
       "      <td>41.979071</td>\n",
       "      <td>-87.903040</td>\n",
       "      <td>POINT (-87.9030396611 41.9790708201)</td>\n",
       "    </tr>\n",
       "    <tr>\n",
       "      <th>2</th>\n",
       "      <td>33c8c13f8d630ac734672db3d50bc55d78a9c366</td>\n",
       "      <td>da4802fcc8e9eb10ee00b1212582430f9a6af7bc2982f9...</td>\n",
       "      <td>2014-11-02 02:30:00+00:00</td>\n",
       "      <td>2014-11-02 02:30:00+00:00</td>\n",
       "      <td>0</td>\n",
       "      <td>0.0</td>\n",
       "      <td>NaN</td>\n",
       "      <td>NaN</td>\n",
       "      <td>NaN</td>\n",
       "      <td>NaN</td>\n",
       "      <td>...</td>\n",
       "      <td>0.0</td>\n",
       "      <td>16.14</td>\n",
       "      <td>Credit Card</td>\n",
       "      <td>Chicago Elite Cab Corp. (Chicago Carriag</td>\n",
       "      <td>NaN</td>\n",
       "      <td>NaN</td>\n",
       "      <td>None</td>\n",
       "      <td>NaN</td>\n",
       "      <td>NaN</td>\n",
       "      <td>None</td>\n",
       "    </tr>\n",
       "    <tr>\n",
       "      <th>3</th>\n",
       "      <td>e5983cc70ed90161180145340c52dfe9d10d1fdb</td>\n",
       "      <td>2509c81056c1e0cb62c7506298a354992d45550bba9fd0...</td>\n",
       "      <td>2014-11-20 13:15:00+00:00</td>\n",
       "      <td>2014-11-20 13:45:00+00:00</td>\n",
       "      <td>1920</td>\n",
       "      <td>12.4</td>\n",
       "      <td>1.703108e+10</td>\n",
       "      <td>1.703198e+10</td>\n",
       "      <td>8.0</td>\n",
       "      <td>56.0</td>\n",
       "      <td>...</td>\n",
       "      <td>3.0</td>\n",
       "      <td>37.25</td>\n",
       "      <td>Credit Card</td>\n",
       "      <td>Taxi Affiliation Services</td>\n",
       "      <td>41.892508</td>\n",
       "      <td>-87.626215</td>\n",
       "      <td>POINT (-87.6262149064 41.8925077809)</td>\n",
       "      <td>41.785999</td>\n",
       "      <td>-87.750934</td>\n",
       "      <td>POINT (-87.7509342894 41.785998518)</td>\n",
       "    </tr>\n",
       "    <tr>\n",
       "      <th>4</th>\n",
       "      <td>47cee9258b9b4acc51191761018d8d2d5f6115cd</td>\n",
       "      <td>4dd2c499779e1efe86d8e7484cbccafef02bac165c79e7...</td>\n",
       "      <td>2014-11-07 19:15:00+00:00</td>\n",
       "      <td>2014-11-07 19:15:00+00:00</td>\n",
       "      <td>420</td>\n",
       "      <td>0.0</td>\n",
       "      <td>1.703108e+10</td>\n",
       "      <td>1.703108e+10</td>\n",
       "      <td>8.0</td>\n",
       "      <td>8.0</td>\n",
       "      <td>...</td>\n",
       "      <td>0.0</td>\n",
       "      <td>6.05</td>\n",
       "      <td>Cash</td>\n",
       "      <td>Taxi Affiliation Services</td>\n",
       "      <td>41.895033</td>\n",
       "      <td>-87.619711</td>\n",
       "      <td>POINT (-87.6197106717 41.8950334495)</td>\n",
       "      <td>41.892042</td>\n",
       "      <td>-87.631864</td>\n",
       "      <td>POINT (-87.6318639497 41.8920421365)</td>\n",
       "    </tr>\n",
       "  </tbody>\n",
       "</table>\n",
       "<p>5 rows × 23 columns</p>\n",
       "</div>"
      ],
      "text/plain": [
       "                                 unique_key  \\\n",
       "0  0523e3d9d670b1730853950fa33f3ca42cfe9e35   \n",
       "1  89b7e0e6d6e3579fc2f00a430aabc3365c1a8043   \n",
       "2  33c8c13f8d630ac734672db3d50bc55d78a9c366   \n",
       "3  e5983cc70ed90161180145340c52dfe9d10d1fdb   \n",
       "4  47cee9258b9b4acc51191761018d8d2d5f6115cd   \n",
       "\n",
       "                                             taxi_id  \\\n",
       "0  7c3d71cce1e7d945d5d1736ff35a8f3c05669d8106df27...   \n",
       "1  c9945e7e18aa8663c2619baf25d0df8730793b96b5003f...   \n",
       "2  da4802fcc8e9eb10ee00b1212582430f9a6af7bc2982f9...   \n",
       "3  2509c81056c1e0cb62c7506298a354992d45550bba9fd0...   \n",
       "4  4dd2c499779e1efe86d8e7484cbccafef02bac165c79e7...   \n",
       "\n",
       "       trip_start_timestamp        trip_end_timestamp  trip_seconds  \\\n",
       "0 2014-11-03 16:00:00+00:00 2014-11-03 16:30:00+00:00          1920   \n",
       "1 2014-11-20 13:15:00+00:00 2014-11-20 13:45:00+00:00          2040   \n",
       "2 2014-11-02 02:30:00+00:00 2014-11-02 02:30:00+00:00             0   \n",
       "3 2014-11-20 13:15:00+00:00 2014-11-20 13:45:00+00:00          1920   \n",
       "4 2014-11-07 19:15:00+00:00 2014-11-07 19:15:00+00:00           420   \n",
       "\n",
       "   trip_miles  pickup_census_tract  dropoff_census_tract  \\\n",
       "0         0.6         1.703184e+10          1.703198e+10   \n",
       "1         0.0         1.703132e+10          1.703198e+10   \n",
       "2         0.0                  NaN                   NaN   \n",
       "3        12.4         1.703108e+10          1.703198e+10   \n",
       "4         0.0         1.703108e+10          1.703108e+10   \n",
       "\n",
       "   pickup_community_area  dropoff_community_area  ...  extras  trip_total  \\\n",
       "0                   32.0                    56.0  ...     3.0       28.05   \n",
       "1                   32.0                    76.0  ...     6.0       44.45   \n",
       "2                    NaN                     NaN  ...     0.0       16.14   \n",
       "3                    8.0                    56.0  ...     3.0       37.25   \n",
       "4                    8.0                     8.0  ...     0.0        6.05   \n",
       "\n",
       "   payment_type                                   company  pickup_latitude  \\\n",
       "0          Cash                 Taxi Affiliation Services        41.880994   \n",
       "1          Cash                 Dispatch Taxi Affiliation        41.884987   \n",
       "2   Credit Card  Chicago Elite Cab Corp. (Chicago Carriag              NaN   \n",
       "3   Credit Card                 Taxi Affiliation Services        41.892508   \n",
       "4          Cash                 Taxi Affiliation Services        41.895033   \n",
       "\n",
       "  pickup_longitude                       pickup_location  dropoff_latitude  \\\n",
       "0       -87.632746  POINT (-87.6327464887 41.8809944707)         41.785999   \n",
       "1       -87.620993  POINT (-87.6209929134 41.8849871918)         41.979071   \n",
       "2              NaN                                  None               NaN   \n",
       "3       -87.626215  POINT (-87.6262149064 41.8925077809)         41.785999   \n",
       "4       -87.619711  POINT (-87.6197106717 41.8950334495)         41.892042   \n",
       "\n",
       "   dropoff_longitude                      dropoff_location  \n",
       "0         -87.750934   POINT (-87.7509342894 41.785998518)  \n",
       "1         -87.903040  POINT (-87.9030396611 41.9790708201)  \n",
       "2                NaN                                  None  \n",
       "3         -87.750934   POINT (-87.7509342894 41.785998518)  \n",
       "4         -87.631864  POINT (-87.6318639497 41.8920421365)  \n",
       "\n",
       "[5 rows x 23 columns]"
      ]
     },
     "execution_count": 2,
     "metadata": {},
     "output_type": "execute_result"
    }
   ],
   "source": [
    "from google.cloud import bigquery\n",
    "\n",
    "# Create a \"Client\" object\n",
    "client = bigquery.Client()\n",
    "\n",
    "# Construct a reference to the \"chicago_taxi_trips\" dataset\n",
    "dataset_ref = client.dataset(\"chicago_taxi_trips\", project=\"bigquery-public-data\")\n",
    "\n",
    "# API request - fetch the dataset\n",
    "dataset = client.get_dataset(dataset_ref)\n",
    "\n",
    "# Construct a reference to the \"taxi_trips\" table\n",
    "table_ref = dataset_ref.table(\"taxi_trips\")\n",
    "\n",
    "# API request - fetch the table\n",
    "table = client.get_table(table_ref)\n",
    "\n",
    "# Preview the first five lines of the table\n",
    "client.list_rows(table, max_results=5).to_dataframe()"
   ]
  },
  {
   "cell_type": "markdown",
   "id": "57cd483d",
   "metadata": {
    "papermill": {
     "duration": 0.005334,
     "end_time": "2023-03-13T17:57:06.972188",
     "exception": false,
     "start_time": "2023-03-13T17:57:06.966854",
     "status": "completed"
    },
    "tags": []
   },
   "source": [
    "# Exercises\n",
    "\n",
    "### 1) How can you predict the demand for taxis?\n",
    "\n",
    "Say you work for a taxi company, and you're interested in predicting the demand for taxis.  Towards this goal, you'd like to create a plot that shows a rolling average of the daily number of taxi trips.  Amend the (partial) query below to return a DataFrame with two columns:\n",
    "- `trip_date` - contains one entry for each date from January 1, 2016, to December 31, 2017.\n",
    "- `avg_num_trips` - shows the average number of daily trips, calculated over a window including the value for the current date, along with the values for the preceding 15 days and the following 15 days, as long as the days fit within the two-year time frame.  For instance, when calculating the value in this column for January 5, 2016, the window will include the number of trips for the preceding 4 days, the current date, and the following 15 days.\n",
    "\n",
    "This query is partially completed for you, and you need only write the part that calculates the `avg_num_trips` column.  Note that this query uses a common table expression (CTE); if you need to review how to use CTEs, you're encouraged to check out [this tutorial](https://www.kaggle.com/dansbecker/as-with) in the [Intro to SQL](https://www.kaggle.com/learn/intro-to-sql) micro-course."
   ]
  },
  {
   "cell_type": "code",
   "execution_count": 3,
   "id": "713bb85b",
   "metadata": {
    "execution": {
     "iopub.execute_input": "2023-03-13T17:57:06.986229Z",
     "iopub.status.busy": "2023-03-13T17:57:06.985777Z",
     "iopub.status.idle": "2023-03-13T17:57:08.332571Z",
     "shell.execute_reply": "2023-03-13T17:57:08.331250Z"
    },
    "papermill": {
     "duration": 1.3571,
     "end_time": "2023-03-13T17:57:08.335156",
     "exception": false,
     "start_time": "2023-03-13T17:57:06.978056",
     "status": "completed"
    },
    "tags": []
   },
   "outputs": [
    {
     "name": "stderr",
     "output_type": "stream",
     "text": [
      "/opt/conda/lib/python3.7/site-packages/google/cloud/bigquery/client.py:440: UserWarning: Cannot create BigQuery Storage client, the dependency google-cloud-bigquery-storage is not installed.\n",
      "  \"Cannot create BigQuery Storage client, the dependency \"\n"
     ]
    },
    {
     "data": {
      "text/html": [
       "<div>\n",
       "<style scoped>\n",
       "    .dataframe tbody tr th:only-of-type {\n",
       "        vertical-align: middle;\n",
       "    }\n",
       "\n",
       "    .dataframe tbody tr th {\n",
       "        vertical-align: top;\n",
       "    }\n",
       "\n",
       "    .dataframe thead th {\n",
       "        text-align: right;\n",
       "    }\n",
       "</style>\n",
       "<table border=\"1\" class=\"dataframe\">\n",
       "  <thead>\n",
       "    <tr style=\"text-align: right;\">\n",
       "      <th></th>\n",
       "      <th>trip_date</th>\n",
       "      <th>avg_num_trips</th>\n",
       "    </tr>\n",
       "  </thead>\n",
       "  <tbody>\n",
       "    <tr>\n",
       "      <th>0</th>\n",
       "      <td>2017-11-16</td>\n",
       "      <td>1056.741935</td>\n",
       "    </tr>\n",
       "    <tr>\n",
       "      <th>1</th>\n",
       "      <td>2016-04-07</td>\n",
       "      <td>10585.645161</td>\n",
       "    </tr>\n",
       "    <tr>\n",
       "      <th>2</th>\n",
       "      <td>2016-08-15</td>\n",
       "      <td>3133.129032</td>\n",
       "    </tr>\n",
       "    <tr>\n",
       "      <th>3</th>\n",
       "      <td>2017-08-18</td>\n",
       "      <td>2101.741935</td>\n",
       "    </tr>\n",
       "    <tr>\n",
       "      <th>4</th>\n",
       "      <td>2017-04-26</td>\n",
       "      <td>2843.000000</td>\n",
       "    </tr>\n",
       "  </tbody>\n",
       "</table>\n",
       "</div>"
      ],
      "text/plain": [
       "    trip_date  avg_num_trips\n",
       "0  2017-11-16    1056.741935\n",
       "1  2016-04-07   10585.645161\n",
       "2  2016-08-15    3133.129032\n",
       "3  2017-08-18    2101.741935\n",
       "4  2017-04-26    2843.000000"
      ]
     },
     "metadata": {},
     "output_type": "display_data"
    },
    {
     "data": {
      "application/javascript": [
       "parent.postMessage({\"jupyterEvent\": \"custom.exercise_interaction\", \"data\": {\"outcomeType\": 2, \"failureMessage\": \"Your window should include the current date, along with the preceding 3 days and the following 3 days.\", \"interactionType\": 1, \"questionType\": 2, \"questionId\": \"1_TaxiDemand\", \"learnToolsVersion\": \"0.3.4\", \"valueTowardsCompletion\": 0.0, \"exceptionClass\": \"\", \"trace\": \"\"}}, \"*\")"
      ],
      "text/plain": [
       "<IPython.core.display.Javascript object>"
      ]
     },
     "metadata": {},
     "output_type": "display_data"
    },
    {
     "data": {
      "text/markdown": [
       "<span style=\"color:#cc3333\">Incorrect:</span> Your window should include the current date, along with the preceding 3 days and the following 3 days."
      ],
      "text/plain": [
       "Incorrect: Your window should include the current date, along with the preceding 3 days and the following 3 days."
      ]
     },
     "metadata": {},
     "output_type": "display_data"
    }
   ],
   "source": [
    "# Fill in the blank below\n",
    "avg_num_trips_query = \"\"\"\n",
    "                      WITH trips_by_day AS\n",
    "                      (\n",
    "                      SELECT DATE(trip_start_timestamp) AS trip_date,\n",
    "                          COUNT(*) as num_trips\n",
    "                      FROM `bigquery-public-data.chicago_taxi_trips.taxi_trips`\n",
    "                      WHERE trip_start_timestamp >= '2016-01-01' AND trip_start_timestamp < '2018-01-01'\n",
    "                      GROUP BY trip_date\n",
    "                      ORDER BY trip_date\n",
    "                      )\n",
    "                      SELECT trip_date,\n",
    "                          AVG(num_trips)\n",
    "                          OVER (\n",
    "                               ORDER BY trip_date\n",
    "                               ROWS BETWEEN 15 PRECEDING AND 15 FOLLOWING\n",
    "                               ) AS avg_num_trips\n",
    "                      FROM trips_by_day\n",
    "                      \"\"\"\n",
    "\n",
    "# Check your answer\n",
    "q_1.check()"
   ]
  },
  {
   "cell_type": "code",
   "execution_count": 4,
   "id": "4470c0e9",
   "metadata": {
    "execution": {
     "iopub.execute_input": "2023-03-13T17:57:08.349413Z",
     "iopub.status.busy": "2023-03-13T17:57:08.348941Z",
     "iopub.status.idle": "2023-03-13T17:57:08.360666Z",
     "shell.execute_reply": "2023-03-13T17:57:08.359045Z"
    },
    "papermill": {
     "duration": 0.022623,
     "end_time": "2023-03-13T17:57:08.363470",
     "exception": false,
     "start_time": "2023-03-13T17:57:08.340847",
     "status": "completed"
    },
    "tags": []
   },
   "outputs": [
    {
     "data": {
      "application/javascript": [
       "parent.postMessage({\"jupyterEvent\": \"custom.exercise_interaction\", \"data\": {\"interactionType\": 3, \"questionType\": 2, \"questionId\": \"1_TaxiDemand\", \"learnToolsVersion\": \"0.3.4\", \"valueTowardsCompletion\": 0.0, \"failureMessage\": \"\", \"exceptionClass\": \"\", \"trace\": \"\", \"outcomeType\": 4}}, \"*\")"
      ],
      "text/plain": [
       "<IPython.core.display.Javascript object>"
      ]
     },
     "metadata": {},
     "output_type": "display_data"
    },
    {
     "data": {
      "text/markdown": [
       "<span style=\"color:#33cc99\">Solution:</span> \n",
       "```python\n",
       "\n",
       "avg_num_trips_query = \"\"\"\n",
       "                      WITH trips_by_day AS\n",
       "                      (\n",
       "                      SELECT DATE(trip_start_timestamp) AS trip_date,\n",
       "                          COUNT(*) as num_trips\n",
       "                      FROM `bigquery-public-data.chicago_taxi_trips.taxi_trips`\n",
       "                      WHERE trip_start_timestamp > '2016-01-01' AND trip_start_timestamp < '2016-04-01'\n",
       "                      GROUP BY trip_date\n",
       "                      )\n",
       "                      SELECT trip_date,\n",
       "                          AVG(num_trips) \n",
       "                          OVER (\n",
       "                               ORDER BY trip_date\n",
       "                               ROWS BETWEEN 3 PRECEDING AND 3 FOLLOWING\n",
       "                               ) AS avg_num_trips\n",
       "                      FROM trips_by_day\n",
       "                      \"\"\"\n",
       "\n",
       "```"
      ],
      "text/plain": [
       "Solution: \n",
       "```python\n",
       "\n",
       "avg_num_trips_query = \"\"\"\n",
       "                      WITH trips_by_day AS\n",
       "                      (\n",
       "                      SELECT DATE(trip_start_timestamp) AS trip_date,\n",
       "                          COUNT(*) as num_trips\n",
       "                      FROM `bigquery-public-data.chicago_taxi_trips.taxi_trips`\n",
       "                      WHERE trip_start_timestamp > '2016-01-01' AND trip_start_timestamp < '2016-04-01'\n",
       "                      GROUP BY trip_date\n",
       "                      )\n",
       "                      SELECT trip_date,\n",
       "                          AVG(num_trips) \n",
       "                          OVER (\n",
       "                               ORDER BY trip_date\n",
       "                               ROWS BETWEEN 3 PRECEDING AND 3 FOLLOWING\n",
       "                               ) AS avg_num_trips\n",
       "                      FROM trips_by_day\n",
       "                      \"\"\"\n",
       "\n",
       "```"
      ]
     },
     "metadata": {},
     "output_type": "display_data"
    }
   ],
   "source": [
    "# Lines below will give you a hint or solution code\n",
    "#q_1.hint()\n",
    "q_1.solution()"
   ]
  },
  {
   "cell_type": "markdown",
   "id": "ae7c20db",
   "metadata": {
    "papermill": {
     "duration": 0.005887,
     "end_time": "2023-03-13T17:57:08.375514",
     "exception": false,
     "start_time": "2023-03-13T17:57:08.369627",
     "status": "completed"
    },
    "tags": []
   },
   "source": [
    "### 2) Can you separate and order trips by community area?\n",
    "\n",
    "The query below returns a DataFrame with three columns from the table: `pickup_community_area`, `trip_start_timestamp`, and `trip_end_timestamp`.  \n",
    "\n",
    "Amend the query to return an additional column called `trip_number` which shows the order in which the trips were taken from their respective community areas.  So, the first trip of the day originating from community area 1 should receive a value of 1; the second trip of the day from the same area should receive a value of 2.  Likewise, the first trip of the day from community area 2 should receive a value of 1, and so on.\n",
    "\n",
    "Note that there are many numbering functions that can be used to solve this problem (depending on how you want to deal with trips that started at the same time from the same community area); to answer this question, please use the **RANK()** function."
   ]
  },
  {
   "cell_type": "code",
   "execution_count": 5,
   "id": "b894bc40",
   "metadata": {
    "execution": {
     "iopub.execute_input": "2023-03-13T17:57:08.389711Z",
     "iopub.status.busy": "2023-03-13T17:57:08.389149Z",
     "iopub.status.idle": "2023-03-13T17:57:09.459467Z",
     "shell.execute_reply": "2023-03-13T17:57:09.457995Z"
    },
    "papermill": {
     "duration": 1.081321,
     "end_time": "2023-03-13T17:57:09.462739",
     "exception": false,
     "start_time": "2023-03-13T17:57:08.381418",
     "status": "completed"
    },
    "tags": []
   },
   "outputs": [
    {
     "name": "stderr",
     "output_type": "stream",
     "text": [
      "/opt/conda/lib/python3.7/site-packages/google/cloud/bigquery/client.py:440: UserWarning: Cannot create BigQuery Storage client, the dependency google-cloud-bigquery-storage is not installed.\n",
      "  \"Cannot create BigQuery Storage client, the dependency \"\n"
     ]
    },
    {
     "data": {
      "text/html": [
       "<div>\n",
       "<style scoped>\n",
       "    .dataframe tbody tr th:only-of-type {\n",
       "        vertical-align: middle;\n",
       "    }\n",
       "\n",
       "    .dataframe tbody tr th {\n",
       "        vertical-align: top;\n",
       "    }\n",
       "\n",
       "    .dataframe thead th {\n",
       "        text-align: right;\n",
       "    }\n",
       "</style>\n",
       "<table border=\"1\" class=\"dataframe\">\n",
       "  <thead>\n",
       "    <tr style=\"text-align: right;\">\n",
       "      <th></th>\n",
       "      <th>pickup_community_area</th>\n",
       "      <th>trip_start_timestamp</th>\n",
       "      <th>trip_end_timestamp</th>\n",
       "      <th>trip_number</th>\n",
       "    </tr>\n",
       "  </thead>\n",
       "  <tbody>\n",
       "    <tr>\n",
       "      <th>0</th>\n",
       "      <td>2.0</td>\n",
       "      <td>2017-05-01 08:00:00+00:00</td>\n",
       "      <td>2017-05-01 08:00:00+00:00</td>\n",
       "      <td>1</td>\n",
       "    </tr>\n",
       "    <tr>\n",
       "      <th>1</th>\n",
       "      <td>2.0</td>\n",
       "      <td>2017-05-01 08:30:00+00:00</td>\n",
       "      <td>2017-05-01 09:00:00+00:00</td>\n",
       "      <td>2</td>\n",
       "    </tr>\n",
       "    <tr>\n",
       "      <th>2</th>\n",
       "      <td>2.0</td>\n",
       "      <td>2017-05-01 20:00:00+00:00</td>\n",
       "      <td>2017-05-01 20:30:00+00:00</td>\n",
       "      <td>3</td>\n",
       "    </tr>\n",
       "    <tr>\n",
       "      <th>3</th>\n",
       "      <td>7.0</td>\n",
       "      <td>2017-05-01 07:00:00+00:00</td>\n",
       "      <td>2017-05-01 07:30:00+00:00</td>\n",
       "      <td>1</td>\n",
       "    </tr>\n",
       "    <tr>\n",
       "      <th>4</th>\n",
       "      <td>76.0</td>\n",
       "      <td>2017-05-01 00:00:00+00:00</td>\n",
       "      <td>2017-05-01 00:30:00+00:00</td>\n",
       "      <td>1</td>\n",
       "    </tr>\n",
       "  </tbody>\n",
       "</table>\n",
       "</div>"
      ],
      "text/plain": [
       "   pickup_community_area      trip_start_timestamp        trip_end_timestamp  \\\n",
       "0                    2.0 2017-05-01 08:00:00+00:00 2017-05-01 08:00:00+00:00   \n",
       "1                    2.0 2017-05-01 08:30:00+00:00 2017-05-01 09:00:00+00:00   \n",
       "2                    2.0 2017-05-01 20:00:00+00:00 2017-05-01 20:30:00+00:00   \n",
       "3                    7.0 2017-05-01 07:00:00+00:00 2017-05-01 07:30:00+00:00   \n",
       "4                   76.0 2017-05-01 00:00:00+00:00 2017-05-01 00:30:00+00:00   \n",
       "\n",
       "   trip_number  \n",
       "0            1  \n",
       "1            2  \n",
       "2            3  \n",
       "3            1  \n",
       "4            1  "
      ]
     },
     "metadata": {},
     "output_type": "display_data"
    },
    {
     "data": {
      "application/javascript": [
       "parent.postMessage({\"jupyterEvent\": \"custom.exercise_interaction\", \"data\": {\"outcomeType\": 2, \"failureMessage\": \"Your answer does not have the correct number of rows.\", \"interactionType\": 1, \"questionType\": 2, \"questionId\": \"2_CommunityArea\", \"learnToolsVersion\": \"0.3.4\", \"valueTowardsCompletion\": 0.0, \"exceptionClass\": \"\", \"trace\": \"\"}}, \"*\")"
      ],
      "text/plain": [
       "<IPython.core.display.Javascript object>"
      ]
     },
     "metadata": {},
     "output_type": "display_data"
    },
    {
     "data": {
      "text/markdown": [
       "<span style=\"color:#cc3333\">Incorrect:</span> Your answer does not have the correct number of rows."
      ],
      "text/plain": [
       "Incorrect: Your answer does not have the correct number of rows."
      ]
     },
     "metadata": {},
     "output_type": "display_data"
    }
   ],
   "source": [
    "# Amend the query below\n",
    "trip_number_query = \"\"\"\n",
    "                    SELECT pickup_community_area,\n",
    "                        trip_start_timestamp,\n",
    "                        trip_end_timestamp,\n",
    "                            RANK() \n",
    "                            OVER (\n",
    "                                PARTITION BY pickup_community_area\n",
    "                                ORDER BY trip_start_timestamp\n",
    "                                ) AS trip_number\n",
    "                    FROM `bigquery-public-data.chicago_taxi_trips.taxi_trips`\n",
    "                    WHERE DATE(trip_start_timestamp) = '2017-05-01'\n",
    "                    \"\"\"\n",
    "\n",
    "# Check your answer\n",
    "q_2.check()"
   ]
  },
  {
   "cell_type": "code",
   "execution_count": 6,
   "id": "a6369c2f",
   "metadata": {
    "execution": {
     "iopub.execute_input": "2023-03-13T17:57:09.478250Z",
     "iopub.status.busy": "2023-03-13T17:57:09.477760Z",
     "iopub.status.idle": "2023-03-13T17:57:09.482051Z",
     "shell.execute_reply": "2023-03-13T17:57:09.481236Z"
    },
    "papermill": {
     "duration": 0.015816,
     "end_time": "2023-03-13T17:57:09.485131",
     "exception": false,
     "start_time": "2023-03-13T17:57:09.469315",
     "status": "completed"
    },
    "tags": []
   },
   "outputs": [],
   "source": [
    "# Lines below will give you a hint or solution code\n",
    "#q_2.hint()\n",
    "#q_2.solution()"
   ]
  },
  {
   "cell_type": "markdown",
   "id": "aab46a7c",
   "metadata": {
    "papermill": {
     "duration": 0.006135,
     "end_time": "2023-03-13T17:57:09.497912",
     "exception": false,
     "start_time": "2023-03-13T17:57:09.491777",
     "status": "completed"
    },
    "tags": []
   },
   "source": [
    "### 3) How much time elapses between trips?\n",
    "\n",
    "The (partial) query in the code cell below shows, for each trip in the selected time frame, the corresponding `taxi_id`, `trip_start_timestamp`, and `trip_end_timestamp`. \n",
    "\n",
    "Your task in this exercise is to edit the query to include an additional `prev_break` column that shows the length of the break (in minutes) that the driver had before each trip started (this corresponds to the time between `trip_start_timestamp` of the current trip and `trip_end_timestamp` of the previous trip).  Partition the calculation by `taxi_id`, and order the results within each partition by `trip_start_timestamp`.\n",
    "\n",
    "Some sample results are shown below, where all rows correspond to the same driver (or `taxi_id`).  Take the time now to make sure that the values in the `prev_break` column make sense to you!\n",
    "\n",
    "![first_commands](https://i.imgur.com/qjvQzg8.png)\n",
    "\n",
    "Note that the first trip of the day for each driver should have a value of **NaN** (not a number) in the `prev_break` column."
   ]
  },
  {
   "cell_type": "code",
   "execution_count": 7,
   "id": "23433c84",
   "metadata": {
    "execution": {
     "iopub.execute_input": "2023-03-13T17:57:09.513573Z",
     "iopub.status.busy": "2023-03-13T17:57:09.512581Z",
     "iopub.status.idle": "2023-03-13T17:57:10.859462Z",
     "shell.execute_reply": "2023-03-13T17:57:10.858378Z"
    },
    "papermill": {
     "duration": 1.357799,
     "end_time": "2023-03-13T17:57:10.862191",
     "exception": false,
     "start_time": "2023-03-13T17:57:09.504392",
     "status": "completed"
    },
    "tags": []
   },
   "outputs": [
    {
     "name": "stderr",
     "output_type": "stream",
     "text": [
      "/opt/conda/lib/python3.7/site-packages/google/cloud/bigquery/client.py:440: UserWarning: Cannot create BigQuery Storage client, the dependency google-cloud-bigquery-storage is not installed.\n",
      "  \"Cannot create BigQuery Storage client, the dependency \"\n"
     ]
    },
    {
     "data": {
      "text/html": [
       "<div>\n",
       "<style scoped>\n",
       "    .dataframe tbody tr th:only-of-type {\n",
       "        vertical-align: middle;\n",
       "    }\n",
       "\n",
       "    .dataframe tbody tr th {\n",
       "        vertical-align: top;\n",
       "    }\n",
       "\n",
       "    .dataframe thead th {\n",
       "        text-align: right;\n",
       "    }\n",
       "</style>\n",
       "<table border=\"1\" class=\"dataframe\">\n",
       "  <thead>\n",
       "    <tr style=\"text-align: right;\">\n",
       "      <th></th>\n",
       "      <th>taxi_id</th>\n",
       "      <th>trip_start_timestamp</th>\n",
       "      <th>trip_end_timestamp</th>\n",
       "      <th>prev_break</th>\n",
       "    </tr>\n",
       "  </thead>\n",
       "  <tbody>\n",
       "    <tr>\n",
       "      <th>0</th>\n",
       "      <td>3d32e203ce14fba431c473d26ce7389ee53693f9201467...</td>\n",
       "      <td>2017-05-01 01:30:00+00:00</td>\n",
       "      <td>2017-05-01 02:00:00+00:00</td>\n",
       "      <td>NaN</td>\n",
       "    </tr>\n",
       "    <tr>\n",
       "      <th>1</th>\n",
       "      <td>6b00c6e07523bf0964046af1bf69575f25c6ea393f288d...</td>\n",
       "      <td>2017-05-01 12:45:00+00:00</td>\n",
       "      <td>2017-05-01 12:45:00+00:00</td>\n",
       "      <td>NaN</td>\n",
       "    </tr>\n",
       "    <tr>\n",
       "      <th>2</th>\n",
       "      <td>842e2b1cd011fab01b6cc042f40c5941798405df1b3b02...</td>\n",
       "      <td>2017-05-01 07:15:00+00:00</td>\n",
       "      <td>2017-05-01 07:15:00+00:00</td>\n",
       "      <td>NaN</td>\n",
       "    </tr>\n",
       "    <tr>\n",
       "      <th>3</th>\n",
       "      <td>842e2b1cd011fab01b6cc042f40c5941798405df1b3b02...</td>\n",
       "      <td>2017-05-01 07:45:00+00:00</td>\n",
       "      <td>2017-05-01 08:00:00+00:00</td>\n",
       "      <td>30.0</td>\n",
       "    </tr>\n",
       "    <tr>\n",
       "      <th>4</th>\n",
       "      <td>842e2b1cd011fab01b6cc042f40c5941798405df1b3b02...</td>\n",
       "      <td>2017-05-01 08:00:00+00:00</td>\n",
       "      <td>2017-05-01 08:00:00+00:00</td>\n",
       "      <td>0.0</td>\n",
       "    </tr>\n",
       "  </tbody>\n",
       "</table>\n",
       "</div>"
      ],
      "text/plain": [
       "                                             taxi_id  \\\n",
       "0  3d32e203ce14fba431c473d26ce7389ee53693f9201467...   \n",
       "1  6b00c6e07523bf0964046af1bf69575f25c6ea393f288d...   \n",
       "2  842e2b1cd011fab01b6cc042f40c5941798405df1b3b02...   \n",
       "3  842e2b1cd011fab01b6cc042f40c5941798405df1b3b02...   \n",
       "4  842e2b1cd011fab01b6cc042f40c5941798405df1b3b02...   \n",
       "\n",
       "       trip_start_timestamp        trip_end_timestamp  prev_break  \n",
       "0 2017-05-01 01:30:00+00:00 2017-05-01 02:00:00+00:00         NaN  \n",
       "1 2017-05-01 12:45:00+00:00 2017-05-01 12:45:00+00:00         NaN  \n",
       "2 2017-05-01 07:15:00+00:00 2017-05-01 07:15:00+00:00         NaN  \n",
       "3 2017-05-01 07:45:00+00:00 2017-05-01 08:00:00+00:00        30.0  \n",
       "4 2017-05-01 08:00:00+00:00 2017-05-01 08:00:00+00:00         0.0  "
      ]
     },
     "metadata": {},
     "output_type": "display_data"
    },
    {
     "data": {
      "application/javascript": [
       "parent.postMessage({\"jupyterEvent\": \"custom.exercise_interaction\", \"data\": {\"outcomeType\": 2, \"failureMessage\": \"Your answer does not have the correct number of rows.\", \"interactionType\": 1, \"questionType\": 2, \"questionId\": \"3_BreakTime\", \"learnToolsVersion\": \"0.3.4\", \"valueTowardsCompletion\": 0.0, \"exceptionClass\": \"\", \"trace\": \"\"}}, \"*\")"
      ],
      "text/plain": [
       "<IPython.core.display.Javascript object>"
      ]
     },
     "metadata": {},
     "output_type": "display_data"
    },
    {
     "data": {
      "text/markdown": [
       "<span style=\"color:#cc3333\">Incorrect:</span> Your answer does not have the correct number of rows."
      ],
      "text/plain": [
       "Incorrect: Your answer does not have the correct number of rows."
      ]
     },
     "metadata": {},
     "output_type": "display_data"
    }
   ],
   "source": [
    "# Fill in the blanks below\n",
    "break_time_query = \"\"\"\n",
    "                   SELECT taxi_id,\n",
    "                       trip_start_timestamp,\n",
    "                       trip_end_timestamp,\n",
    "                       TIMESTAMP_DIFF(\n",
    "                           trip_start_timestamp, \n",
    "                           LAG(trip_end_timestamp, 1) \n",
    "                               OVER (\n",
    "                                    PARTITION BY taxi_id \n",
    "                                    ORDER BY trip_start_timestamp), \n",
    "                           MINUTE) as prev_break\n",
    "                   FROM `bigquery-public-data.chicago_taxi_trips.taxi_trips`\n",
    "                   WHERE DATE(trip_start_timestamp) = '2017-05-01' \n",
    "                   \"\"\"\n",
    "\n",
    "# Check your answer\n",
    "q_3.check()"
   ]
  },
  {
   "cell_type": "code",
   "execution_count": 8,
   "id": "0c29943e",
   "metadata": {
    "execution": {
     "iopub.execute_input": "2023-03-13T17:57:10.879014Z",
     "iopub.status.busy": "2023-03-13T17:57:10.878575Z",
     "iopub.status.idle": "2023-03-13T17:57:10.883465Z",
     "shell.execute_reply": "2023-03-13T17:57:10.882226Z"
    },
    "papermill": {
     "duration": 0.01645,
     "end_time": "2023-03-13T17:57:10.885868",
     "exception": false,
     "start_time": "2023-03-13T17:57:10.869418",
     "status": "completed"
    },
    "tags": []
   },
   "outputs": [],
   "source": [
    "# Lines below will give you a hint or solution code\n",
    "#q_3.hint()\n",
    "#q_3.solution()"
   ]
  },
  {
   "cell_type": "markdown",
   "id": "5355a2ce",
   "metadata": {
    "papermill": {
     "duration": 0.006549,
     "end_time": "2023-03-13T17:57:10.899362",
     "exception": false,
     "start_time": "2023-03-13T17:57:10.892813",
     "status": "completed"
    },
    "tags": []
   },
   "source": [
    "# Keep going\n",
    "\n",
    "Move on to learn how to query **[nested and repeated data](https://www.kaggle.com/alexisbcook/nested-and-repeated-data)**."
   ]
  },
  {
   "cell_type": "markdown",
   "id": "fb80c807",
   "metadata": {
    "papermill": {
     "duration": 0.009911,
     "end_time": "2023-03-13T17:57:10.919192",
     "exception": false,
     "start_time": "2023-03-13T17:57:10.909281",
     "status": "completed"
    },
    "tags": []
   },
   "source": [
    "---\n",
    "\n",
    "\n",
    "\n",
    "\n",
    "*Have questions or comments? Visit the [course discussion forum](https://www.kaggle.com/learn/advanced-sql/discussion) to chat with other learners.*"
   ]
  }
 ],
 "metadata": {
  "kernelspec": {
   "display_name": "Python 3",
   "language": "python",
   "name": "python3"
  },
  "language_info": {
   "codemirror_mode": {
    "name": "ipython",
    "version": 3
   },
   "file_extension": ".py",
   "mimetype": "text/x-python",
   "name": "python",
   "nbconvert_exporter": "python",
   "pygments_lexer": "ipython3",
   "version": "3.7.12"
  },
  "papermill": {
   "default_parameters": {},
   "duration": 27.894053,
   "end_time": "2023-03-13T17:57:11.956966",
   "environment_variables": {},
   "exception": null,
   "input_path": "__notebook__.ipynb",
   "output_path": "__notebook__.ipynb",
   "parameters": {},
   "start_time": "2023-03-13T17:56:44.062913",
   "version": "2.4.0"
  }
 },
 "nbformat": 4,
 "nbformat_minor": 5
}
